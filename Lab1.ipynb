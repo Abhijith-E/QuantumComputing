{
 "cells": [
  {
   "cell_type": "code",
   "execution_count": 219,
   "id": "c168d3ab",
   "metadata": {},
   "outputs": [
    {
     "data": {
      "text/plain": [
       "array([0.5, 0.5])"
      ]
     },
     "metadata": {},
     "output_type": "display_data"
    }
   ],
   "source": [
    "from numpy import array\n",
    "\n",
    "# Define basis vectors (also called \"kets\" in quantum mechanics)\n",
    "ket0 = array([1, 0])\n",
    "ket1 = array([0, 1])\n",
    "\n",
    "# Here we divide each by 2 and then add\n",
    "display(ket0 / 2 + ket1 / 2)"
   ]
  },
  {
   "cell_type": "code",
   "execution_count": 220,
   "id": "6930b598",
   "metadata": {},
   "outputs": [
    {
     "data": {
      "text/plain": [
       "array([[1. , 1. ],\n",
       "       [0.5, 0. ]])"
      ]
     },
     "execution_count": 220,
     "metadata": {},
     "output_type": "execute_result"
    }
   ],
   "source": [
    "# Define two 2x2 matrices\n",
    "M1 = array([[1, 1], [0, 0]])\n",
    "M2 = array([[1, 1], [1, 0]])\n",
    "\n",
    "# Add the two matrices after dividing each by 2\n",
    "M1 / 2 + M2 / 2"
   ]
  },
  {
   "cell_type": "code",
   "execution_count": 221,
   "id": "f5fb8cd1",
   "metadata": {},
   "outputs": [
    {
     "data": {
      "text/plain": [
       "array([1, 0])"
      ]
     },
     "metadata": {},
     "output_type": "display_data"
    },
    {
     "data": {
      "text/plain": [
       "array([[2, 1],\n",
       "       [0, 0]])"
      ]
     },
     "metadata": {},
     "output_type": "display_data"
    },
    {
     "data": {
      "text/plain": [
       "array([[1, 1],\n",
       "       [1, 1]])"
      ]
     },
     "metadata": {},
     "output_type": "display_data"
    }
   ],
   "source": [
    "from numpy import matmul\n",
    "\n",
    "# Multiply M1 with ket1\n",
    "display(matmul(M1, ket1))\n",
    "\n",
    "# Multiply M1 with M2\n",
    "display(matmul(M1, M2))\n",
    "\n",
    "# Multiply M2 with M1\n",
    "display(matmul(M2, M1))"
   ]
  },
  {
   "cell_type": "code",
   "execution_count": 222,
   "id": "1b0b6ab0",
   "metadata": {},
   "outputs": [
    {
     "name": "stdout",
     "output_type": "stream",
     "text": [
      "State vectors u, v, and w have been defined.\n"
     ]
    }
   ],
   "source": [
    "from qiskit.quantum_info import Statevector\n",
    "from numpy import sqrt\n",
    "\n",
    "# Define a balanced superposition state\n",
    "u = Statevector([1 / sqrt(2), 1 / sqrt(2)])\n",
    "\n",
    "# Define a state with complex amplitudes\n",
    "v = Statevector([(1 + 2.0j) / 3, -2 / 3])\n",
    "\n",
    "# Define another state (not normalized yet, so invalid!)\n",
    "w = Statevector([1 / 3, 2 / 3])\n",
    "\n",
    "print(\"State vectors u, v, and w have been defined.\")"
   ]
  },
  {
   "cell_type": "code",
   "execution_count": 223,
   "id": "61f96211",
   "metadata": {},
   "outputs": [
    {
     "data": {
      "text/latex": [
       "$$\\frac{\\sqrt{2}}{2} |0\\rangle+\\frac{\\sqrt{2}}{2} |1\\rangle$$"
      ],
      "text/plain": [
       "<IPython.core.display.Latex object>"
      ]
     },
     "metadata": {},
     "output_type": "display_data"
    },
    {
     "data": {
      "text/plain": [
       "[ 0.33333333+0.66666667j,-0.66666667+0.j        ]"
      ]
     },
     "metadata": {},
     "output_type": "display_data"
    }
   ],
   "source": [
    "# Draw the state u in LaTeX form\n",
    "display(u.draw(\"latex\"))\n",
    "\n",
    "# Draw the state v as plain text\n",
    "display(v.draw(\"text\"))"
   ]
  },
  {
   "cell_type": "code",
   "execution_count": 224,
   "id": "237dd11e",
   "metadata": {},
   "outputs": [
    {
     "data": {
      "text/plain": [
       "True"
      ]
     },
     "metadata": {},
     "output_type": "display_data"
    },
    {
     "data": {
      "text/plain": [
       "False"
      ]
     },
     "metadata": {},
     "output_type": "display_data"
    }
   ],
   "source": [
    "# Check if states are valid\n",
    "display(u.is_valid())   # should be True\n",
    "display(w.is_valid())   # should be False (not normalized)"
   ]
  },
  {
   "cell_type": "code",
   "execution_count": 225,
   "id": "bdce0933",
   "metadata": {},
   "outputs": [
    {
     "data": {
      "text/latex": [
       "$$(\\frac{1}{3} + \\frac{2 i}{3}) |0\\rangle- \\frac{2}{3} |1\\rangle$$"
      ],
      "text/plain": [
       "<IPython.core.display.Latex object>"
      ]
     },
     "execution_count": 225,
     "metadata": {},
     "output_type": "execute_result"
    }
   ],
   "source": [
    "# Recreate v\n",
    "v = Statevector([(1 + 2.0j) / 3, -2 / 3])\n",
    "\n",
    "# Draw v in LaTeX form\n",
    "v.draw(\"latex\")"
   ]
  },
  {
   "cell_type": "code",
   "execution_count": 226,
   "id": "0c61820d",
   "metadata": {},
   "outputs": [
    {
     "data": {
      "text/plain": [
       "(np.str_('0'),\n",
       " Statevector([0.4472136+0.89442719j, 0.       +0.j        ],\n",
       "             dims=(2,)))"
      ]
     },
     "execution_count": 226,
     "metadata": {},
     "output_type": "execute_result"
    }
   ],
   "source": [
    "# Recreate v\n",
    "v = Statevector([(1 + 2.0j) / 3, -2 / 3])\n",
    "\n",
    "# Draw v in LaTeX form\n",
    "v.draw(\"latex\")\n",
    "\n",
    "# Try measuring v\n",
    "v.measure()\n"
   ]
  },
  {
   "cell_type": "code",
   "execution_count": 231,
   "id": "88643cc8",
   "metadata": {},
   "outputs": [
    {
     "data": {
      "text/plain": [
       "{np.str_('0'): np.int64(548), np.str_('1'): np.int64(452)}"
      ]
     },
     "metadata": {},
     "output_type": "display_data"
    },
    {
     "data": {
      "image/png": "[encoded data removed]",
      "text/plain": [
       "<Figure size 640x480 with 1 Axes>"
      ]
     },
     "execution_count": 231,
     "metadata": {},
     "output_type": "execute_result"
    }
   ],
   "source": [
    "from qiskit.visualization import plot_histogram\n",
    "\n",
    "# Take 1000 samples from v\n",
    "statistics = v.sample_counts(1000)\n",
    "\n",
    "# Show the counts as a Python dictionary\n",
    "display(statistics)\n",
    "\n",
    "# Plot the distribution as a histogram\n",
    "plot_histogram(statistics)"
   ]
  },
  {
   "cell_type": "code",
   "execution_count": 232,
   "id": "795f7d72",
   "metadata": {},
   "outputs": [
    {
     "name": "stdout",
     "output_type": "stream",
     "text": [
      "normalized probabilities: [np.float64(0.20000000000000004), np.float64(0.8000000000000002)]\n"
     ]
    }
   ],
   "source": [
    "import numpy as np\n",
    "from qiskit.quantum_info import Statevector\n",
    "\n",
    "# Define a raw (non-normalized) vector\n",
    "vec = np.array([1/3, 2/3], dtype=complex)\n",
    "\n",
    "# Compute its norm (length)\n",
    "norm = np.linalg.norm(vec)\n",
    "\n",
    "# Normalize by dividing each component by the norm\n",
    "vec_normed = vec / norm\n",
    "\n",
    "# Create a valid Statevector from the normalized version\n",
    "w = Statevector(vec_normed)\n",
    "\n",
    "# Print the probabilities (square of amplitudes' absolute values)\n",
    "print(\"normalized probabilities:\", [abs(a)**2 for a in w.data]) "
   ]
  }
 ],
 "metadata": {
  "language_info": {
   "name": "python"
  }
 },
 "nbformat": 4,
 "nbformat_minor": 5
}
