{
 "cells": [
  {
   "cell_type": "code",
   "execution_count": 219,
   "id": "c168d3ab",
   "metadata": {},
   "outputs": [
    {
     "data": {
      "text/plain": [
       "array([0.5, 0.5])"
      ]
     },
     "metadata": {},
     "output_type": "display_data"
    }
   ],
   "source": [
    "from numpy import array\n",
    "\n",
    "# Define basis vectors (also called \"kets\" in quantum mechanics)\n",
    "ket0 = array([1, 0])\n",
    "ket1 = array([0, 1])\n",
    "\n",
    "# Here we divide each by 2 and then add\n",
    "display(ket0 / 2 + ket1 / 2)"
   ]
  }
 ],
 "metadata": {
  "language_info": {
   "name": "python"
  }
 },
 "nbformat": 4,
 "nbformat_minor": 5
}
